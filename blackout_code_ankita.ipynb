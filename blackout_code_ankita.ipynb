{
 "cells": [
  {
   "cell_type": "code",
   "execution_count": 7,
   "id": "2738e27f",
   "metadata": {},
   "outputs": [
    {
     "name": "stderr",
     "output_type": "stream",
     "text": [
      "[nltk_data] Downloading package stopwords to /Users/kita/nltk_data...\n",
      "[nltk_data]   Package stopwords is already up-to-date!\n"
     ]
    },
    {
     "name": "stdout",
     "output_type": "stream",
     "text": [
      "what is your search term?: happy\n",
      "Blackout Poem:\n",
      "########## context ###### emotional ####### positive ######## emotions ranging ########### ####### ####### ##### include life ############# ########### subjective ########### ########### ############## Since ###### happiness research ######### wide ####### ########## ############ including ############ social psychology positive ########### ######## medical research happiness ########## ########### subject ###### ##### ####################### possible ########### ############# ############## #### ###### #### ######## ### ############ usages include ######## ########## ########## ######### ######## measures ####### ########## ########## ###### ######### life ################ ## ######## ##### ########### described happiness #### ########## #### ############ positive ########### ######## ##### ##### life ##### ########### ################ ############### Greek term ######### translated ########## ######## ############ ############ ###### ########## ######## happiness include measures subjective ########## mood ############### ######### uses give different ################ ####### ###### countries often score ####### ### ######## ##### ######## countries score ###### ############ ####### ####### positive life ################# ####### meaning #### ### #### ######### ############ qualifying happiness ######## fuzzy ######## ##### ########### ##### ######### ##### happiness #### ########## ### different ######### ### ###### ##### ############# ##### ###### ####### ######## ### #### ######### ########## Happiness ### different meaning #### drafting ## ########### ############ ######## ############ People ###### measure happiness ########## ##### English ########### philosopher ###### ####### ######## happiness primary #### ###### measured ### ########### well ########## ############### ###### happiness ######### measured ##### ########### ######## ############## ##### ######### biases ####### ####### ######## ##### ####### show ######## felt emotions ############### ######### ########### research ##### people #### ########## future ######### including happy ####### Happiness ########## ###### ######### ############# ############## ###### ######## ### ############# measure average happiness ############ ####### ###### ######### measure ########## Since ##### ##### Happiness ###### ########## Happiness ########## #### happy life ######## emotional ######## #### happy ###### people seem #### ### happiness ########### ###### ######### ##### ######### ###### ########## countries ####### ###### ########## subjective ########## ######### primary ########### ######### life evaluations emotional ############ ## ##### measure ######## ########## ######### ######### ####### ####### ######### ##### ######## ################## ######## ########## ############# ######## organizations ####### developing ################# dashboards combine subjective objective ########## ####### direct ######## ########## human ########## many different ############ ##### ########## happiness ########## ###### ####### ######## ####### ############ ######### ######### ######### ########## ### ####### happiness wellbeing ########## life ########### ######## ####### #### #### ########## need improve ############## help ### achieve increase ########## Happiness found ##### ###### ############# Philosophy happiness often ######### ########### ########### Traditional European ########## ######### Greeks ############# often ###### happiness ######### ######### ########### ####### #### #### ####### #### social ######### Happiness ####### ######### term ##### ########### ########## history ##### ########### ########### ######## define ######## terms consequences ####### happiness ######## define ######## terms ####### happiness ######## ########### happiness ######## ####### ####### #### ########### ######### research suggests ########### ######### ######## happiness part depend ########### ######## ######### ########## ######### ####### happiness ####### ##### ############### ##### #### research also suggests ######## ######### ######## increase ###################### Ethicists #### ######### ###### ####### ###### individually ############# ##### ######### happiness ######### ############# #### Stuart #### ###### ######## ######### greatest happiness principle ##### ####### ############# Critics #### include Thomas ######## ######### ####### others within ###### ############# ############## ######### described ########## ####### ########### #### human ####### ####### Eudaimonia often translated #### ########## ######## ####### ###### ############ ### ######## ################ ########### ### term ############ ###### ####### ###### ####### ##### ############## Nicomachean ####### written ### #### ######### stated happiness ##### well ##### thing ###### ###### ##### ###### ####### ####### health ########### ######## ### ###### ####### ####### health #### also order ########## ######### term ########### translated ########### ############# ######## ###### ####### ########## Eudaimonia ####### ########### classical Greek #### consists #### #### ####### ############# ######## ######### ###### ####### #### ######### #### ##### ### ######### #### ########### happy life good ##### ### life person ######## human ###### excellent ######## ############# ######### argued good life life excellent ######## ######### ####### ##### ######### ########## ########## ###### ##### living thing ######### ######## ##### ######### human ######## ####### since ##### ###### ######## ### ########## ##### ######## ##### ############ ##### ######### ########## life excellent ######## ######## happy ##### ######### argued ########### life incapable excellent ######## ######## life ##### ########### ### ######## ######### ##### ###### ##### ultimate ####### human ########### ### people seeking ######### ####### good ########### #### ###### #### ###### ##### greatest good humanity ##### ### seem #### goods ##### obtain ########## ######### said happiness ###### ### ########### ######### Nietzsche critiqued English ############# focus attaining greatest ########## ####### #### ###### ########## ########## ########## Nietzsche ##### ###### happiness ##### ultimate #### ### ##### ########## ##### ###### ### ############## Nietzsche ####### ####### ####### would ### ####### ######### goals ##### ########### ########## ############## ###### ##### #### #### ####### ########## ############ ########################## ###### ##### #### seek ######## ####### ######## ####### ######### ########### ########## ######## ##### seem ############ ########### ####### Nietzsche ####### ##### ## ######## value ########## ###### ######### ########### #### #### #### ### ########### value ######### ########### ##### #### ######## ########## great ##### ##### including ####### ############ human ######## ##### ################### ######## achieve happiness include ############# ########## positive ############ ####### ########### ########### ######## ########## ###### ############ others believe happiness ###### derived ######### momentary ############## Research positive ########### ########### ########## ########## ######## ####### ##### ###### ######### ###### ##### range ###### ####### including #### ########### ######### ########### ############## ######### ###### ########## ########## ############ George ######## ######## ############ ##### ##### ########### Harvard ########## ###### ## ######### found ######## healthier ######## strong ############# ################## Research ###### ######## ##### contributes ############### #### ###### health good relationships contribute ###### ############## ##### ###### ## Santos course ###### ########### #### ##### ###### ####### course history #### ########## #### ######### #### ###### ######## ############# ############ focus ########## ########## tradition seeking ######## ######## unpleasant ############ ########## tradition living life full ###### ########## ######## ######## said ###### #### people #### ########### ###### ###### seem ###### ###### ############ ###### ############### ######## hierarchy ##### ####### ######### ###### human ###### ############## ######### human ####### ##### ######## ################## ############ Beyond ####### ##### ############ ###### ########## ####### ############# ########### ##### #### ############ profound ####### ##### ############## ########## ######## person ##### ###### ###### ################ ### part ###### similar #### ####### ###### ##################### ####### #### #### ##### ##### ### achieve greater happiness ######## ############# ######## ####### #### lose ##### ##### ####### focus ###### ## forget ####### ###### ######## positive ############# ##### ##### said ########## ########## ### found ###### ####### human ########## ########## realization potentialities ##### ############### ### ##### ########## ######### ##### ######## ###### ############ ######### ####### ###### ####### ############### ################## ###### ####### intrinsic motivation ##### ###### ########### ######### ############ ###### ######### ###### ############## ########### ##### happiness ##### #### ##### ###### ########### ##### ###### society ###### #### ###### ##### ###### ########## ##### ##### ########## ###### happiness ####### ######## ######## ####### ###### #### ###### people #### ###### Happiness also ####### ######## countries #### ###### ################ ####### ##### said ###### ###### ########## ############# achieving restricted #### #### ###### ####### ######### ######## ###### ##### ############ #### ############ ######## ###### ######## ### human ######### Since #### field positive psychology ######## drastically terms ########## ############# ######## many different views ###### ########## ####### correlate ############## ######## ########## ######### ############# ######### ############ improve ################## ####### ######## including ##### ###### written ### ######### seeking happiness ############ ####################### #### Stuart #### believed great majority people happiness #### ######## ## ######## ###### ######## ######### ##### ################### ######### ################### dwelling ### thinking ###### imagining questioning ##### ########## ##### ######### ########### ############## ### would ####### happiness ### ############## ####### #### said ### ###### ######## people seem particular ##### happy ###### #### ######### ###### ##### Marden said ##### people #### ############ ######### ########## ####### ####### therapeutic ###### #### ###### ###### ###### ######## ######### ####### emotional ########## uses ### positive psychology ########## often #### people depression ######## ##### ####### lead ####### ########## wealth ############### studies happiness ######## health ##### ########## positive ################### ######### studies ###### show happiness predict longevity #### ############ predict longevity ##### ####### ################# ### mood ########## many negative life ######## ######## #### ####### ######### ###### ### life ########### ########## happiness protects negative ######### #### ###### argued happiness ### ####### person ########## ######### less ########### likely ######### high #### ################ also ######### studies ########## seeking happiness negative ######## ####### #### ######### ############################ #### ##### ##### people ###### ########## likely ### high ######### feel ####################### ### study ##### ##### value happiness #### react less positively happy ############## #### study found psychological ########## ###### people ########### positive negative ################### ###### ####### believed public policy ####### maximize ########## even ######### ######## ######## ########## Thomas ######### ### ######## ########## ##### life ####### ###### States ########### ############# ########## many countries organizations ######### measure ########## happiness ########### ######## ##### ####### ###### ####### #### ###### measures happiness ###### ################## ############ wealth happiness ###### ### increase #### countries ###### happiness ####### ############################## ######### ########## ##### life ############ positively ####### social ########## model ######## social ###### #### ########## labor ###### ############ strong labor ###################### ###### ##### happiness strongly ########## ######## ############# ########## within context ####### mixed ######## #### ##### ########## ######## happiness affected ######## ####################### Hedonism ####### strongly ####### happiness individualistic ############## ### ###### ###### ### ###### countries ####### individualistic ######### ############### ######## ### satisfy intrinsic ########### ###### ###### ############## ######### ########## intrinsic ############ ####### ######### ############ ### ###### greater ###### ########## ####### happiness individualistic ############## ######## views happiness ####### ########## ######## Western ####### ######### #### happiness ######## since #### ############# ######## seek maximize ################## ##### ## ######## ###### #################### found Western ######## individual happiness ########## ######## ######## views #### ######## #### individual ########## ######## people living ####### ##### ######## focus need happiness within relationships others even #### ######## happiness harmful ########## happy social ################################ ##### ## People countries high ######## ########### #### ###### life ############ less emotional ########### people ####### ############### Happiness ##### ####### ##### ######## ############### ultimate freedom ########## ##### Eightfold #### ##### practitioner ######## ##### ########### ###### ######## happiness ######## ########## ####### ###### ####### ##### ########## ######### wealth ########### good ############ also ########## ###### goals ### people #### ####### ######## also ########## generation ###### kindness ########### ###### happiness ####### ############################ ################### ######## ####### ######## ultimate #### life ########## ##### ####### ##### ####### ########### ### ######## ####### #### #### ########## ###### #### ####### ##### ##### ############ psychological ########### ##### ########### ####### ######### ####### ######## ###### give ###### ######## ######### ####### ####### ####### States ####### convinced mind ###### mediating #### ####### ##### #### ############# ##### ######## ##### #### ##### ###### ####### ########## ##### ### would lead ############### argued ### feel ############ ######## nourishing ##### ###### ###### ########## ####### ##### would ####### ######### ##### ###### ############# ######## ########## ############ ### ### ########## ######## great ######## ########## ########### Happiness ###### ######## ##### ####### considered ######### ####### ####### ######### biblical verse ######## #### ######### #### ###### ####### ###### ###### ######## ### ####### ######### ####### ######## ##### ####### ######## ############ ######### ###### ######## ####### ######## ######## ####### great ####### ############# ###### ##### ########## person happy #### ####### ####### ### going ##### activities ######### ########################## ######## primary meaning ########### ####### European ######### ######## good ######## ######### similar ########## meaning Greek philosophy ###### ######### ####### ############# ultimate ### human ######### consists ######### ##### ########## Greek ########## ######### ############ described ############ ###################### Thomas ####### ######## ###### ##### ####### next ########## ######### ######### Hippo Thomas ######## ##### #### ### ########## #### ### ##### ######## #### #### ################ ####### agreed ######### happiness ###### reached ###### ######### consequences ##### also requires ####### good ###### ##### ###### ######### ############ ######### ######## happiness consists ########## ########### ########### ############# happiness consists principally ########## #### ############# ###### ######## #### #### #### ### ###### ####### active ##### ######## ######### ########### ### ########## #### ####### ########## ##### life ##### consists ######## ############## ######### ########## ##### consists ##### principally ############## ############ operation ######### ######### ######### human ####### ############### ##### ############# #### reason ########## ####### ########## ########## #### ####### ########### temporal ##### ############# #### ########## ########## ####### ####### ##### ########## ####### ########## complete ########### ######## ##### ########## ########## ############ #### ######## ##### #### ####### ########### ###### ######### instruction #### ########## Muslim ##### ###### ######### ########### ############# evidence happiness ####### ######## ######## health ###### ##### researched ### ### Sheung ###### ###### Happiness Harvard #### #### School ###### ############ positive ############ suggested volume ####### #### matter ##### ######### #### ##### subjective happiness ########### ##### ########### ######### ## ####### ##### ####### happiness ##### ##### ########### ########### ## ####### affected life ############# ########## ######### ## ####### happiness subject ####################### ########## genetics ####### individuals ######### ##### understand genetics predict ######### possible ##### increase likelihood individuals ####### ######## ####### ### ####### predict ######### point ########## ######### #### #### ### evidence ####### #### happiness affected ### ######### #### ###### Michael Minkov Michael ###### #### found #### #### ###### good predictor happiness ##### ############ ##### many studies found genetics ### part predicting ############# happiness ############ ###### article ########## many studies genetics ########## ######### common ############## ###### found ######### ###### affected ######### ######## happiness ######### ######## ####### studies subjective wellbeing measured ##### heredity found ####### ## ## ######## ####### ###### ###### unrelated ######### ######## ########## ############ ## ## ######## ######## article found common ####### heredity ## ## ############# \n"
     ]
    }
   ],
   "source": [
    "import requests\n",
    "from bs4 import BeautifulSoup\n",
    "import random\n",
    "import nltk\n",
    "nltk.download('stopwords')\n",
    "\n",
    "#scraping\n",
    "def wiki(url):\n",
    "    response = requests.get(url)\n",
    "    soup = BeautifulSoup(response.content, 'html.parser')\n",
    "    \n",
    "    text = ''\n",
    "    for para in soup.find_all('p'):\n",
    "        text += para.get_text()\n",
    "\n",
    "    text = text.replace('\\n', ' ')\n",
    "    text = ' '.join(text.split())\n",
    "\n",
    "    return text\n",
    "\n",
    "#generates poem\n",
    "def generate(text):\n",
    "    words = text.split() \n",
    "\n",
    "    stop_words = set(stopwords.words('english'))\n",
    "    words = [word for word in words if word.lower() not in stop_words]\n",
    "\n",
    "    selected_words = []\n",
    "    for word in words:\n",
    "        if len(word) > 3 and word.isalpha() and random.random() < 0.2:\n",
    "            selected_words.append(word)\n",
    "\n",
    "    #this is the part that needs to be fixed, it chooses random words\n",
    "    random.shuffle(selected_words)\n",
    "\n",
    "    #\"blacks out\"\n",
    "    blackout_poem = ''\n",
    "    for word in words:\n",
    "        if word in selected_words:\n",
    "            blackout_poem += word\n",
    "        else:\n",
    "            blackout_poem += '#' * len(word)\n",
    "        blackout_poem += ' '\n",
    "\n",
    "    return blackout_poem\n",
    "\n",
    "#user input section\n",
    "if __name__ == '__main__':\n",
    "    search_term = input(\"what is your search term?: \")\n",
    "\n",
    "    url = f\"https://en.wikipedia.org/wiki/{search_term}\"\n",
    "    text = wiki(url)\n",
    "    \n",
    "    poem = generate(text)\n",
    "\n",
    "    #print function\n",
    "    print(\"Blackout Poem:\")\n",
    "    print(poem)\n",
    "\n",
    "#hey guys, some words don't work and i included comments to explain some parts of the code. the main parts i need to fix is the sentence structure/nltk part. for this code i just chose a random selection of word so we just have a base structure for it. feel free to use my code in developing yours. :D"
   ]
  },
  {
   "cell_type": "code",
   "execution_count": null,
   "id": "a5b5df2a",
   "metadata": {},
   "outputs": [],
   "source": []
  }
 ],
 "metadata": {
  "kernelspec": {
   "display_name": "Python 3 (ipykernel)",
   "language": "python",
   "name": "python3"
  },
  "language_info": {
   "codemirror_mode": {
    "name": "ipython",
    "version": 3
   },
   "file_extension": ".py",
   "mimetype": "text/x-python",
   "name": "python",
   "nbconvert_exporter": "python",
   "pygments_lexer": "ipython3",
   "version": "3.9.12"
  }
 },
 "nbformat": 4,
 "nbformat_minor": 5
}
